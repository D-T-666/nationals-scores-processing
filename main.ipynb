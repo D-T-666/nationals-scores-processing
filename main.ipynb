{
 "cells": [
  {
   "cell_type": "markdown",
   "metadata": {},
   "source": [
    "# Turn the pdf into a tsv file"
   ]
  },
  {
   "cell_type": "markdown",
   "metadata": {},
   "source": [
    "Install the dependencies"
   ]
  },
  {
   "cell_type": "code",
   "execution_count": null,
   "metadata": {},
   "outputs": [],
   "source": [
    "pip install tabula-py "
   ]
  },
  {
   "cell_type": "markdown",
   "metadata": {},
   "source": [
    "Use tabula to extract the PDF tables to TSV, a much simple file format"
   ]
  },
  {
   "cell_type": "code",
   "execution_count": 2,
   "metadata": {},
   "outputs": [],
   "source": [
    "import tabula\n",
    "\n",
    "tabula.convert_into(\n",
    "    \"data/publication-2022.pdf\", # Input file\n",
    "    \"data/publication.tsv\", # Output file\n",
    "    output_format=\"tsv\", \n",
    "    pages=\"all\",\n",
    "    area=[5, 0, 95, 100], # [ TOP, LEFT, BOTTOM, RIGHT ]\n",
    "    relative_area=True,\n",
    "    stream=True,\n",
    "    guess=False\n",
    "\n",
    ")"
   ]
  },
  {
   "cell_type": "markdown",
   "metadata": {},
   "source": [
    "Manually fixing up the generated file, since it's not yet perfect (or usable)"
   ]
  },
  {
   "cell_type": "code",
   "execution_count": 3,
   "metadata": {},
   "outputs": [],
   "source": [
    "import re\n",
    "\n",
    "file_contents = \"\"\n",
    "\n",
    "# Read the file\n",
    "with open(\"data/publication.tsv\", \"r\") as file_reader:\n",
    "    file_contents = file_reader.read()\n",
    "\n",
    "# Fix the whitespace\n",
    "for a, b in [\n",
    "    (r'\"\"', ''),\n",
    "    (r'[ \\t]+', r'\\t'),\n",
    "    (r'\\t+\\n', r'\\n'),\n",
    "    (r'\\n\\t+', '\\n')\n",
    "]: file_contents = re.sub(a, b, file_contents)\n",
    "\n",
    "# Write back to the file\n",
    "with open(\"data/publication.tsv\", \"w\") as file_writer:\n",
    "    file_writer.write(file_contents)"
   ]
  },
  {
   "cell_type": "code",
   "execution_count": 9,
   "metadata": {},
   "outputs": [],
   "source": [
    "def read_competition_scores(file_name: str):\n",
    "    data = []\n",
    "\n",
    "    with open(file_name, \"r\") as file_reader:\n",
    "        current_school = ''\n",
    "        reset_school = True\n",
    "\n",
    "        for line in file_reader.readlines():\n",
    "            line = line.strip().split(\"\\t\")\n",
    "\n",
    "            for col in line:\n",
    "                if not col.replace(\".\", \"\").isnumeric():\n",
    "                    if line[0].isnumeric():\n",
    "                        if reset_school:\n",
    "                            current_school = \"\"\n",
    "                            reset_school = False\n",
    "\n",
    "                        current_school += \" \" + \" \".join(line)\n",
    "\n",
    "                    break\n",
    "            else:\n",
    "                if not reset_school:\n",
    "                    # NOTE: This can be cleaned up quite a lot\n",
    "\n",
    "                    current_school = re.sub(r'^.*?\\s-\\s(.*)', r'\\1', current_school)\n",
    "                    # print(current_school)\n",
    "                    school_id = re.findall(r'\\d{5,}', current_school)[-1]\n",
    "                    current_school = current_school.replace(f' {school_id} ', '\\t')\n",
    "                    current_school = f'{school_id}\\t{current_school}'\n",
    "\n",
    "                    reset_school = True\n",
    "\n",
    "                competition_score = float(line[-1] if '.' in line[-1] else line[-2])\n",
    "                competition_id = line[1]\n",
    "\n",
    "                data.append((competition_score, f'{competition_id}\\t{current_school}'))\n",
    "            \n",
    "    \n",
    "    return data"
   ]
  },
  {
   "cell_type": "markdown",
   "metadata": {},
   "source": [
    "Now, we use the `read_competition_scores()` function to read the competition scores."
   ]
  },
  {
   "cell_type": "code",
   "execution_count": 10,
   "metadata": {},
   "outputs": [],
   "source": [
    "data = read_competition_scores(\"data/publication.tsv\")\n",
    "\n",
    "# Sort in descending order\n",
    "sorted_data = sorted(data, key=lambda a: a[0], reverse=True)"
   ]
  },
  {
   "cell_type": "markdown",
   "metadata": {},
   "source": [
    "Generate a string and write it to a file"
   ]
  },
  {
   "cell_type": "code",
   "execution_count": 13,
   "metadata": {},
   "outputs": [],
   "source": [
    "output_string = \"ადგილი\\tსაკონკურსო ქულა\\tსაგამოცდო ნომერი\\tფაკულტეტის ნომერი\\tუნივერსიტეტი\\tფაკულტეტი\\n\"\n",
    "for index, entry in enumerate(sorted_data):\n",
    "    output_string += f\"{(index+1):5d}\\t{entry[0]}\\t{entry[1]}\\n\"\n",
    "\n",
    "with open(\"data/sorted-scores.tsv\", \"w\") as file_wirter:\n",
    "    file_wirter.write(output_string)"
   ]
  }
 ],
 "metadata": {
  "kernelspec": {
   "display_name": "Python 3.9.13 64-bit",
   "language": "python",
   "name": "python3"
  },
  "language_info": {
   "codemirror_mode": {
    "name": "ipython",
    "version": 3
   },
   "file_extension": ".py",
   "mimetype": "text/x-python",
   "name": "python",
   "nbconvert_exporter": "python",
   "pygments_lexer": "ipython3",
   "version": "3.9.13"
  },
  "orig_nbformat": 4,
  "vscode": {
   "interpreter": {
    "hash": "a665b5d41d17b532ea9890333293a1b812fa0b73c9c25c950b3cedf1bebd0438"
   }
  }
 },
 "nbformat": 4,
 "nbformat_minor": 2
}
